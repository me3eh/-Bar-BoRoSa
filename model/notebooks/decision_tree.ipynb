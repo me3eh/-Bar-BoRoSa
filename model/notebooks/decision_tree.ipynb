{
 "cells": [
  {
   "cell_type": "markdown",
   "metadata": {},
   "source": [
    "# Fake And Real News Detection With Desicion Tree"
   ]
  },
  {
   "cell_type": "code",
   "execution_count": null,
   "metadata": {},
   "outputs": [],
   "source": [
    "# # Importing the required libraries\n",
    "# import numpy as np\n",
    "# import pandas as pd\n",
    "# import matplotlib.pyplot as plt\n",
    "# import seaborn as sns\n",
    "# from sklearn.model_selection import train_test_split\n",
    "# from sklearn.metrics import accuracy_score\n",
    "# from sklearn.metrics import classification_report   \n",
    "# from sklearn.feature_extraction.text import TfidfVectorizer, CountVectorizer\n",
    "# from sklearn.tree import DecisionTreeClassifier \n",
    "# from sklearn.metrics import confusion_matrix\n",
    "# from sklearn.metrics import f1_score, precision_score, recall_score \n",
    "# import pickle\n",
    "# from dotenv import load_dotenv\n",
    "# import os\n",
    "# import mlflow\n",
    "# from codecarbon import EmissionsTracker\n",
    "# import torch\n"
   ]
  },
  {
   "cell_type": "code",
   "execution_count": null,
   "metadata": {},
   "outputs": [],
   "source": [
    "# tracker.start_task(\"Decision_tree\")\n",
    "# load_dotenv(\"../../.env\")\n",
    "\n",
    "# mlflow.set_tracking_uri(os.environ.get(\"MLFLOW_SERVER\"))\n",
    "# mlflow.sklearn.autolog(log_input_examples=True, extra_tags={\"Model\": \"Desicion Tree\"}, log_model_signatures=False)"
   ]
  },
  {
   "cell_type": "code",
   "execution_count": null,
   "metadata": {},
   "outputs": [],
   "source": [
    "# # importing data\n",
    "\n",
    "# x_train_path = '../data/x_train.pkl'\n",
    "# x_test_path = '../data/x_test.pkl'\n",
    "# y_train_path = '../data/y_train.pkl'\n",
    "# y_test_path = '../data/y_test.pkl'\n",
    "\n",
    "# # Reading the pickle files\n",
    "# with open(x_train_path, 'rb') as file:\n",
    "#     x_train = pickle.load(file)\n",
    "\n",
    "# with open(x_test_path, 'rb') as file:\n",
    "#     x_test = pickle.load(file)\n",
    "\n",
    "# with open(y_train_path, 'rb') as file:\n",
    "#     y_train = pickle.load(file)\n",
    "\n",
    "# with open(y_test_path, 'rb') as file:\n",
    "#     y_test = pickle.load(file)\n",
    "\n",
    "# x_train = x_train.to_numpy()\n",
    "# x_test = x_test.to_numpy()\n",
    "# y_train = y_train.to_numpy()\n",
    "# y_test = y_test.to_numpy()\n",
    "\n"
   ]
  },
  {
   "cell_type": "code",
   "execution_count": null,
   "metadata": {},
   "outputs": [],
   "source": [
    "  # # Vectraizing the text data\n",
    "  # # vect = TfidfVectorizer(stop_words='english', max_df=0.7)\n",
    "  # vect = CountVectorizer()\n",
    "  # xv_train = vect.fit_transform(x_train)\n",
    "  # xv_test = vect.transform(x_test)"
   ]
  },
  {
   "cell_type": "code",
   "execution_count": null,
   "metadata": {},
   "outputs": [],
   "source": [
    "# model = DecisionTreeClassifier()\n",
    "# # print(xv_train.flags)\n",
    "# model.fit(xv_train, y_train)"
   ]
  },
  {
   "cell_type": "code",
   "execution_count": null,
   "metadata": {},
   "outputs": [],
   "source": [
    "# # Predicting the model\n",
    "# y_pred = model.predict(xv_test)\n",
    "# # log these values too with mlflow\n",
    "# mlflow.log_metric(\"testing_accuracy\", model.score(xv_test, y_test))\n",
    "# mlflow.log_metric(\"testing_f1\", f1_score(y_test, y_pred, average='weighted'))\n",
    "# mlflow.log_metric(\"testing_recall\", recall_score(y_test, y_pred, average='weighted'))\n",
    "# mlflow.log_metric(\"testing_precision\", precision_score(y_test, y_pred, average='weighted'))\n",
    "\n",
    "# print(\"Accuracy of the model: \", model.score(xv_test, y_test))\n",
    "# print(\"F1 Score of the model: \", f1_score(y_test, y_pred, average='weighted'))\n",
    "# print(\"Recall of the model: \", recall_score(y_test, y_pred, average='weighted'))\n",
    "# print(\"Precision of the model: \", precision_score(y_test, y_pred, average='weighted'))\n",
    "\n",
    "# # model.add_flavor(\"pytorch\", foo=123, bar=\"abc\", offset=model)\n",
    "# # model.save(\".\")\n",
    "\n",
    "# model.score(xv_test, y_test)\n",
    "\n"
   ]
  },
  {
   "cell_type": "code",
   "execution_count": null,
   "metadata": {},
   "outputs": [],
   "source": [
    "# # make a confusion matrix\n",
    "# cm = confusion_matrix(y_test, y_pred)\n",
    "\n",
    "# # plot the confusion matrix\n",
    "# plt.figure(figsize=(10,7))\n",
    "# sns.heatmap(cm, annot=True, fmt='d')\n",
    "# plt.xlabel('Predicted')\n",
    "# plt.ylabel('Truth')\n",
    "\n",
    "\n",
    "# # show to accuracy\n",
    "# print('Accuracy:', accuracy_score(y_test, y_pred))\n",
    "# print(classification_report(y_test, y_pred))\n",
    "# mlflow.sklearn.save_model(model, \"Decision tree 2\")\n",
    "\n",
    "#   # Convert to a scripted model and save it\n",
    "# # scripted_pytorch_model = torch.jit.script(model)\n",
    "# # mlflow.pytorch.save_model(scripted_pytorch_model, \"scripted_model\")\n",
    "\n",
    "\n",
    "# time = tracker.stop()\n",
    "# time\n"
   ]
  },
  {
   "cell_type": "code",
   "execution_count": null,
   "metadata": {},
   "outputs": [],
   "source": [
    "\n",
    "# heh = vect.transform([\"dupa\"])\n",
    "# model.predict(heh)"
   ]
  },
  {
   "cell_type": "code",
   "execution_count": null,
   "metadata": {},
   "outputs": [],
   "source": [
    "# from sklearn.feature_extraction.text import CountVectorizer\n",
    "\n",
    "# # Preprocess the data\n",
    "# vectorizer = CountVectorizer()\n",
    "# X_train = vectorizer.fit_transform(data_train['headline'])\n",
    "# X_test = vectorizer.transform(data_test['headline'])\n",
    "\n",
    "# # Train the DecisionTreeClassifier\n",
    "# clf = DecisionTreeClassifier()\n",
    "# clf.fit(X_train, y_train)\n",
    "\n",
    "# # Make predictions on the test set\n",
    "# y_pred = clf.predict(X_test)\n",
    "\n",
    "# # Make a prediction for a single word\n",
    "# word_vector = vectorizer.transform([\"example\"])\n",
    "# prediction = clf.predict(word_vector)\n",
    "# print(\"The prediction for the word 'example' is: {}\".format(prediction))"
   ]
  },
  {
   "cell_type": "code",
   "execution_count": 32,
   "metadata": {},
   "outputs": [],
   "source": [
    "import pickle\n",
    "import mlflow\n",
    "from codecarbon import EmissionsTracker\n",
    "from sklearn.tree import DecisionTreeClassifier\n",
    "from sklearn.metrics import accuracy_score\n",
    "\n"
   ]
  },
  {
   "cell_type": "code",
   "execution_count": null,
   "metadata": {},
   "outputs": [],
   "source": [
    "\n",
    "tracker = EmissionsTracker(project_name=\"Decision_tree\", measure_power_secs=10)\n",
    "tracker.start_task(\"Decision_tree\")\n",
    "\n",
    "# importing data\n",
    "x_train_path = '../data/x_train.pkl'\n",
    "x_test_path = '../data/x_test.pkl'\n",
    "y_train_path = '../data/y_train.pkl'\n",
    "y_test_path = '../data/y_test.pkl'\n",
    "\n",
    "# Reading the pickle files\n",
    "with open(x_train_path, 'rb') as file:\n",
    "    x_train = pickle.load(file)\n",
    "\n",
    "with open(x_test_path, 'rb') as file:\n",
    "    x_test = pickle.load(file)\n",
    "\n",
    "with open(y_train_path, 'rb') as file:\n",
    "    y_train = pickle.load(file)\n",
    "\n",
    "with open(y_test_path, 'rb') as file:\n",
    "    y_test = pickle.load(file)\n",
    "\n",
    "vectorizer = pickle.load(open(\"../data/vectorizer.pickle\", 'rb')) #Load vectorizer\n",
    "\n",
    "# converting the data to numpy arrays\n",
    "x_train = x_train.to_numpy()\n",
    "x_test = x_test.to_numpy()\n",
    "y_train = y_train.to_numpy()\n",
    "y_test = y_test.to_numpy()\n",
    "\n",
    "# Preprocessing the data\n",
    "x_train = vectorizer.fit_transform(x_train)\n",
    "x_test = vectorizer.transform(x_test)\n",
    "\n",
    "# Train the DecisionTreeClassifier\n",
    "clf = DecisionTreeClassifier()\n",
    "clf.fit(x_train, y_train)\n",
    "\n",
    "# Make predictions on the test set\n",
    "y_pred = clf.predict(x_test)\n",
    "\n",
    "# Evaluate the accuracy of the classifier\n",
    "\n",
    "mlflow.sklearn.save_model(clf, \"Decision Tree\")\n",
    "tracker_summary = tracker.stop()\n",
    "\n",
    "tracker_summary"
   ]
  },
  {
   "cell_type": "code",
   "execution_count": null,
   "metadata": {},
   "outputs": [],
   "source": [
    "pickle.dump(vectorizer, open(\"../data/vectorizer.pickle\", \"wb\")) #Save vectorizer\n",
    "model = mlflow.sklearn.load_model(\"Decision Tree\")"
   ]
  },
  {
   "cell_type": "code",
   "execution_count": null,
   "metadata": {},
   "outputs": [],
   "source": [
    "print(\"Accuracy:\", accuracy_score(y_test, y_pred))\n"
   ]
  },
  {
   "cell_type": "code",
   "execution_count": null,
   "metadata": {},
   "outputs": [],
   "source": [
    "# word = \"dupa\"\n",
    "# word_vector = vectorizer.transform([word])\n",
    "# prediction = clf.predict(word_vector)\n",
    "# print(\"The prediction for the word '{}' is: {}\".format(word, prediction))\n",
    "\n",
    "# Make a prediction for a single word\n",
    "word_vector = vectorizer.transform([word])\n",
    "prediction = model.predict(word_vector)\n",
    "print(\"The prediction for the word '{}' is: {}\".format(word, prediction))\n",
    "\n",
    "for x in range(1000):\n",
    "  result = model.predict(df[\"Text\"][x])\n",
    "  if df[\"label\"][x] == result[1]:\n",
    "    yes = yes + 1\n",
    "  else:\n",
    "    no = no + 1\n",
    "  # clear_output()\n",
    "print(f\"Got {yes} right, {no} wrong\")"
   ]
  },
  {
   "cell_type": "code",
   "execution_count": null,
   "metadata": {},
   "outputs": [],
   "source": []
  }
 ],
 "metadata": {
  "kernelspec": {
   "display_name": "base",
   "language": "python",
   "name": "python3"
  },
  "language_info": {
   "codemirror_mode": {
    "name": "ipython",
    "version": 3
   },
   "file_extension": ".py",
   "mimetype": "text/x-python",
   "name": "python",
   "nbconvert_exporter": "python",
   "pygments_lexer": "ipython3",
   "version": "3.11.7"
  }
 },
 "nbformat": 4,
 "nbformat_minor": 2
}
