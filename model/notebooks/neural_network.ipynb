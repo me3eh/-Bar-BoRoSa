{
 "cells": [
  {
   "cell_type": "code",
   "execution_count": 19,
   "metadata": {},
   "outputs": [
    {
     "name": "stdout",
     "output_type": "stream",
     "text": [
      "Epoch 1/10\n",
      "117/117 - 83s - loss: 0.1739 - accuracy: 0.9465 - val_loss: 0.0128 - val_accuracy: 0.9960 - 83s/epoch - 706ms/step\n",
      "Epoch 2/10\n",
      "117/117 - 76s - loss: 0.0149 - accuracy: 0.9970 - val_loss: 0.0231 - val_accuracy: 0.9964 - 76s/epoch - 646ms/step\n",
      "Epoch 3/10\n",
      "117/117 - 75s - loss: 0.0111 - accuracy: 0.9985 - val_loss: 0.0075 - val_accuracy: 0.9980 - 75s/epoch - 639ms/step\n",
      "Epoch 4/10\n",
      "117/117 - 75s - loss: 0.0028 - accuracy: 0.9999 - val_loss: 0.0039 - val_accuracy: 0.9984 - 75s/epoch - 641ms/step\n",
      "Epoch 5/10\n",
      "117/117 - 74s - loss: 0.0016 - accuracy: 0.9997 - val_loss: 0.0064 - val_accuracy: 0.9976 - 74s/epoch - 629ms/step\n",
      "Epoch 6/10\n",
      "117/117 - 74s - loss: 2.1915e-04 - accuracy: 1.0000 - val_loss: 0.0101 - val_accuracy: 0.9964 - 74s/epoch - 632ms/step\n",
      "Epoch 7/10\n",
      "117/117 - 76s - loss: 1.5514e-04 - accuracy: 1.0000 - val_loss: 0.0099 - val_accuracy: 0.9968 - 76s/epoch - 647ms/step\n",
      "78/78 [==============================] - 5s 61ms/step\n",
      "Accuracy: 99.84%\n",
      "Precision: 99.68%\n",
      "Recall: 100.00%\n",
      "F1 Score: 99.84%\n",
      "1/1 [==============================] - 0s 61ms/step\n",
      "Fake News\n"
     ]
    }
   ],
   "source": [
    "import numpy as np\n",
    "import pandas as pd\n",
    "import re\n",
    "from sklearn.model_selection import train_test_split\n",
    "from sklearn.preprocessing import LabelEncoder\n",
    "from sklearn.metrics import accuracy_score, precision_score, recall_score, f1_score\n",
    "from keras.preprocessing.text import Tokenizer\n",
    "import re\n",
    "from codecarbon import EmissionsTracker\n",
    "from keras.preprocessing.sequence import pad_sequences\n",
    "from keras.models import Sequential\n",
    "from keras.layers import Embedding, LSTM, Dense, SpatialDropout1D\n",
    "from keras.callbacks import EarlyStopping\n",
    "\n",
    "tracker = EmissionsTracker(project_name=\"Neural_network\", measure_power_secs=10)\n",
    "tracker.start_task(\"Neural_network_learning\")\n",
    "\n",
    "# Load the dataset\n",
    "df = pd.read_csv('fake_and_real_data.csv')\n",
    "\n",
    "# Preprocess the dataset\n",
    "def preprocess_text(text):\n",
    "    text = re.sub(r'http\\S+', '', text)  # remove URLs\n",
    "    text = re.sub(r'[^a-zA-Z\\s]', '', text)  # remove punctuation\n",
    "    text = text.lower()  # convert to lowercase\n",
    "    return text\n",
    "\n",
    "# Assuming the dataset has two columns: 'text' and 'label'\n",
    "df['Text'] = df['Text'].apply(preprocess_text)\n",
    "texts = df['Text'].values\n",
    "labels = df['label'].values\n",
    "\n",
    "# Encode the labels\n",
    "label_encoder = LabelEncoder()\n",
    "labels = label_encoder.fit_transform(labels)\n",
    "\n",
    "# Tokenize the text\n",
    "tokenizer = Tokenizer(num_words=5000, lower=True)\n",
    "tokenizer.fit_on_texts(texts)\n",
    "word_index = tokenizer.word_index\n",
    "vocab_size = len(word_index) + 1\n",
    "\n",
    "# Convert texts to sequences\n",
    "sequences = tokenizer.texts_to_sequences(texts)\n",
    "maxlen = 200  # increase maxlen to capture more context\n",
    "X = pad_sequences(sequences, maxlen=maxlen)\n",
    "\n",
    "# Split the data into training and testing sets\n",
    "X_train, X_test, y_train, y_test = train_test_split(X, labels, test_size=0.25, random_state=42)\n",
    "\n",
    "# Build the neural network model\n",
    "model = Sequential()\n",
    "model.add(Embedding(vocab_size, 100, input_length=maxlen))\n",
    "model.add(SpatialDropout1D(0.2))\n",
    "model.add(LSTM(128, dropout=0.2, recurrent_dropout=0.2))  # increase LSTM units\n",
    "model.add(Dense(1, activation='sigmoid'))\n",
    "\n",
    "model.compile(loss='binary_crossentropy', optimizer='adam', metrics=['accuracy'])\n",
    "\n",
    "# Train the model with early stopping\n",
    "epochs = 10  # increase the number of epochs\n",
    "batch_size = 64\n",
    "early_stopping = EarlyStopping(monitor='val_loss', patience=3, restore_best_weights=True)\n",
    "\n",
    "history = model.fit(X_train, y_train, epochs=epochs, batch_size=batch_size, validation_data=(X_test, y_test), \n",
    "                    callbacks=[early_stopping], verbose=2)\n",
    "\n",
    "# Evaluate the model\n",
    "y_pred = (model.predict(X_test) > 0.5).astype(\"int32\")\n",
    "accuracy = accuracy_score(y_test, y_pred)\n",
    "precision = precision_score(y_test, y_pred)\n",
    "recall = recall_score(y_test, y_pred)\n",
    "f1 = f1_score(y_test, y_pred)\n",
    "\n",
    "print(f'Accuracy: {accuracy * 100:.2f}%')\n",
    "print(f'Precision: {precision * 100:.2f}%')\n",
    "print(f'Recall: {recall * 100:.2f}%')\n",
    "print(f'F1 Score: {f1 * 100:.2f}%')\n",
    "\n",
    "# Function to check if a string is fake news\n",
    "\n",
    "tracker.stop()\n",
    "# Example usage\n",
    "text_to_check = \"Your text to check if it's fake news or not.\"\n",
    "result = check_fake_news(text_to_check)\n",
    "print(result)\n"
   ]
  },
  {
   "cell_type": "code",
   "execution_count": 52,
   "metadata": {},
   "outputs": [],
   "source": [
    "# def check_fake_news(text):\n",
    "#     sequence = tokenizer.texts_to_sequences([text])\n",
    "#     padded_sequence = pad_sequences(sequence, maxlen=maxlen)\n",
    "#     prediction = (model.predict(padded_sequence) > 0.5).astype(\"int32\")\n",
    "#     return 'Fake News' if prediction[0][0] == 1 else 'Real News'\n",
    "\n",
    "# Example usage\n",
    "from IPython.display import clear_output\n",
    "\n",
    "def check_fake_news(text):\n",
    "    text = preprocess_text(text)\n",
    "    sequence = tokenizer.texts_to_sequences([text])\n",
    "    padded_sequence = pad_sequences(sequence, maxlen=maxlen)\n",
    "    # print(model.predict(padded_sequence))\n",
    "    prediction = (model.predict(padded_sequence) < 0.5).astype(\"int32\")\n",
    "    return ['Fake News', \"Fake\"] if prediction[0][0] == 1 else ['Real News', \"Real\"]\n",
    "\n",
    "# yes = 0\n",
    "# no = 0\n",
    "# for x in range(1000):\n",
    "#   result = check_fake_news(df[\"Text\"][x])\n",
    "#   if df[\"label\"][x] == result[1]:\n",
    "#     yes = yes + 1\n",
    "#   else:\n",
    "#     no = no + 1\n",
    "#   # clear_output()\n",
    "# print(f\"Got {yes} right, {no} wrong\")"
   ]
  },
  {
   "cell_type": "code",
   "execution_count": 66,
   "metadata": {},
   "outputs": [
    {
     "name": "stdout",
     "output_type": "stream",
     "text": [
      "1/1 [==============================] - 0s 148ms/step\n"
     ]
    },
    {
     "data": {
      "text/plain": [
       "['Fake News', 'Fake']"
      ]
     },
     "execution_count": 66,
     "metadata": {},
     "output_type": "execute_result"
    }
   ],
   "source": [
    "# range(df.size)\n",
    "text = \" REPORT: Sean Spicer Forces Staffers To Surrender Phones In Search Of Leakers Donald Trump s paranoia and desperation to keep the American people in the dark just took an unconstitutional turn.For weeks, various news outlets have obtained inside information from White House sources such as memos and descriptions of what is going on behind the scenes. That s how we know about what executive orders Trump is considering and how we know about the chaos and infighting that has been plaguing Trump s administration. It s also how we know more about Trump s Russia scandal.Rather than address his executive orders or the chaos in the White House or his Russia scandal, Trump would rather whine about the leaks instead.The real story here is why are there so many illegal leaks coming out of Washington? Will these leaks be happening as I deal on N.Korea etc?  Donald J. Trump (@realDonaldTrump) February 14, 2017Information is being illegally given to the failing @nytimes & @washingtonpost by the intelligence community (NSA and FBI?).Just like Russia  Donald J. Trump (@realDonaldTrump) February 15, 2017The real scandal here is that classified information is illegally given out by  intelligence  like candy. Very un-American!  Donald J. Trump (@realDonaldTrump) February 15, 2017You know what is really un-American? Forcing your staffers to hand over their phones for an inspection.According to a report by Politico, White House mouthpiece Sean Spicer actually confiscated the phones of his staff to go through them in order to make sure they are not leaking any information to the press.Of course, if someone had refused to hand over their phone they would have more than likely lost their job so they definitely didn t volunteer to give their phones up. They had to do it out of fear.The staffers were called to an  emergency meeting  and told to place any electronic device they had on them on a table, including personal cell phones, so they could be searched.But the Constitution specifically bars such illegal searches and seizures.The Fourth Amendment states, The right of the people to be secure in their persons, houses, papers, and effects, against unreasonable searches and seizures, shall not be violated, and no Warrants shall issue, but upon probable cause, supported by Oath or affirmation, and particularly describing the place to be searched, and the persons or things to be seized. In other words, if Trump really thinks the leaks are  illegal,  he should have to get a warrant to search the phones of his employees. But he didn t, which means his search is illegal and in violation of the constitutional rights of his staffers. Trump and Spicer can hardly call the confiscation voluntary either since many of these staffers probably believed they would be fired if they did not hand over their phones. That means they were forced to do so, and they can file a lawsuit for having their privacy violated.Once again, Donald Trump and his team are violating the Constitution. Republicans in Congress cannot continue to allow Trump to trample our constitutional rights. It s time to investigate and impeach him. Because at this rate, he ll literally be ripping up the Constitution if he isn t stopped.Featured image via Win McNamee/Getty Images\"\n",
    "result = check_fake_news(text)\n",
    "result"
   ]
  },
  {
   "cell_type": "code",
   "execution_count": 58,
   "metadata": {},
   "outputs": [
    {
     "ename": "MlflowException",
     "evalue": "Path 'Neural network' already exists and is not empty",
     "output_type": "error",
     "traceback": [
      "\u001b[0;31m---------------------------------------------------------------------------\u001b[0m",
      "\u001b[0;31mMlflowException\u001b[0m                           Traceback (most recent call last)",
      "Cell \u001b[0;32mIn[58], line 2\u001b[0m\n\u001b[1;32m      1\u001b[0m \u001b[38;5;28;01mimport\u001b[39;00m \u001b[38;5;21;01mmlflow\u001b[39;00m\n\u001b[0;32m----> 2\u001b[0m \u001b[43mmlflow\u001b[49m\u001b[38;5;241;43m.\u001b[39;49m\u001b[43msklearn\u001b[49m\u001b[38;5;241;43m.\u001b[39;49m\u001b[43msave_model\u001b[49m\u001b[43m(\u001b[49m\u001b[43mmodel\u001b[49m\u001b[43m,\u001b[49m\u001b[43m \u001b[49m\u001b[38;5;124;43m\"\u001b[39;49m\u001b[38;5;124;43mNeural network\u001b[39;49m\u001b[38;5;124;43m\"\u001b[39;49m\u001b[43m)\u001b[49m\n",
      "File \u001b[0;32m~/Bar_BoRoSa/venv/lib/python3.11/site-packages/mlflow/sklearn/__init__.py:244\u001b[0m, in \u001b[0;36msave_model\u001b[0;34m(sk_model, path, conda_env, code_paths, mlflow_model, serialization_format, signature, input_example, pip_requirements, extra_pip_requirements, pyfunc_predict_fn, metadata)\u001b[0m\n\u001b[1;32m    235\u001b[0m \u001b[38;5;28;01mif\u001b[39;00m serialization_format \u001b[38;5;129;01mnot\u001b[39;00m \u001b[38;5;129;01min\u001b[39;00m SUPPORTED_SERIALIZATION_FORMATS:\n\u001b[1;32m    236\u001b[0m     \u001b[38;5;28;01mraise\u001b[39;00m MlflowException(\n\u001b[1;32m    237\u001b[0m         message\u001b[38;5;241m=\u001b[39m(\n\u001b[1;32m    238\u001b[0m             \u001b[38;5;124mf\u001b[39m\u001b[38;5;124m\"\u001b[39m\u001b[38;5;124mUnrecognized serialization format: \u001b[39m\u001b[38;5;132;01m{\u001b[39;00mserialization_format\u001b[38;5;132;01m}\u001b[39;00m\u001b[38;5;124m. Please specify one\u001b[39m\u001b[38;5;124m\"\u001b[39m\n\u001b[0;32m   (...)\u001b[0m\n\u001b[1;32m    241\u001b[0m         error_code\u001b[38;5;241m=\u001b[39mINVALID_PARAMETER_VALUE,\n\u001b[1;32m    242\u001b[0m     )\n\u001b[0;32m--> 244\u001b[0m \u001b[43m_validate_and_prepare_target_save_path\u001b[49m\u001b[43m(\u001b[49m\u001b[43mpath\u001b[49m\u001b[43m)\u001b[49m\n\u001b[1;32m    245\u001b[0m code_path_subdir \u001b[38;5;241m=\u001b[39m _validate_and_copy_code_paths(code_paths, path)\n\u001b[1;32m    247\u001b[0m \u001b[38;5;28;01mif\u001b[39;00m signature \u001b[38;5;129;01mis\u001b[39;00m \u001b[38;5;28;01mNone\u001b[39;00m \u001b[38;5;129;01mand\u001b[39;00m input_example \u001b[38;5;129;01mis\u001b[39;00m \u001b[38;5;129;01mnot\u001b[39;00m \u001b[38;5;28;01mNone\u001b[39;00m:\n",
      "File \u001b[0;32m~/Bar_BoRoSa/venv/lib/python3.11/site-packages/mlflow/utils/model_utils.py:267\u001b[0m, in \u001b[0;36m_validate_and_prepare_target_save_path\u001b[0;34m(path)\u001b[0m\n\u001b[1;32m    265\u001b[0m \u001b[38;5;28;01mdef\u001b[39;00m \u001b[38;5;21m_validate_and_prepare_target_save_path\u001b[39m(path):\n\u001b[1;32m    266\u001b[0m     \u001b[38;5;28;01mif\u001b[39;00m os\u001b[38;5;241m.\u001b[39mpath\u001b[38;5;241m.\u001b[39mexists(path) \u001b[38;5;129;01mand\u001b[39;00m \u001b[38;5;28many\u001b[39m(os\u001b[38;5;241m.\u001b[39mscandir(path)):\n\u001b[0;32m--> 267\u001b[0m         \u001b[38;5;28;01mraise\u001b[39;00m MlflowException(\n\u001b[1;32m    268\u001b[0m             message\u001b[38;5;241m=\u001b[39m\u001b[38;5;124mf\u001b[39m\u001b[38;5;124m\"\u001b[39m\u001b[38;5;124mPath \u001b[39m\u001b[38;5;124m'\u001b[39m\u001b[38;5;132;01m{\u001b[39;00mpath\u001b[38;5;132;01m}\u001b[39;00m\u001b[38;5;124m'\u001b[39m\u001b[38;5;124m already exists and is not empty\u001b[39m\u001b[38;5;124m\"\u001b[39m,\n\u001b[1;32m    269\u001b[0m             error_code\u001b[38;5;241m=\u001b[39mRESOURCE_ALREADY_EXISTS,\n\u001b[1;32m    270\u001b[0m         )\n\u001b[1;32m    272\u001b[0m     os\u001b[38;5;241m.\u001b[39mmakedirs(path, exist_ok\u001b[38;5;241m=\u001b[39m\u001b[38;5;28;01mTrue\u001b[39;00m)\n",
      "\u001b[0;31mMlflowException\u001b[0m: Path 'Neural network' already exists and is not empty"
     ]
    }
   ],
   "source": [
    "import mlflow\n",
    "mlflow.sklearn.save_model(model, \"Neural network\")"
   ]
  },
  {
   "cell_type": "code",
   "execution_count": null,
   "metadata": {},
   "outputs": [],
   "source": []
  }
 ],
 "metadata": {
  "kernelspec": {
   "display_name": "venv",
   "language": "python",
   "name": "python3"
  },
  "language_info": {
   "codemirror_mode": {
    "name": "ipython",
    "version": 3
   },
   "file_extension": ".py",
   "mimetype": "text/x-python",
   "name": "python",
   "nbconvert_exporter": "python",
   "pygments_lexer": "ipython3",
   "version": "3.11.7"
  }
 },
 "nbformat": 4,
 "nbformat_minor": 2
}
